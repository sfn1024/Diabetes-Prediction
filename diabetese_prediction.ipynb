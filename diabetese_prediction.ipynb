{
  "nbformat": 4,
  "nbformat_minor": 0,
  "metadata": {
    "colab": {
      "provenance": []
    },
    "kernelspec": {
      "name": "python3",
      "display_name": "Python 3"
    },
    "language_info": {
      "name": "python"
    }
  },
  "cells": [
    {
      "cell_type": "code",
      "source": [
        "!pip install numpy\n",
        "!pip install tensorflow"
      ],
      "metadata": {
        "id": "lF87s1_c-ARw"
      },
      "execution_count": null,
      "outputs": []
    },
    {
      "cell_type": "markdown",
      "source": [
        "#CSV Data set header names\n",
        "\n",
        "   1. Number of times pregnant\n",
        "   2. Plasma glucose concentration a 2 hours in an oral glucose tolerance test\n",
        "   3. Diastolic blood pressure (mm Hg)\n",
        "   4. Triceps skin fold thickness (mm)\n",
        "   5. 2-Hour serum insulin (mu U/ml)\n",
        "   6. Body mass index (weight in kg/(height in m)^2)\n",
        "   7. Diabetes pedigree function\n",
        "   8. Age (years)\n",
        "   9. Class variable (0 or 1)"
      ],
      "metadata": {
        "id": "Cu8kQvYWSGs4"
      }
    },
    {
      "cell_type": "markdown",
      "source": [
        "Creating the model.h5, model.jason files"
      ],
      "metadata": {
        "id": "6pne8yZgSZSV"
      }
    },
    {
      "cell_type": "code",
      "execution_count": null,
      "metadata": {
        "id": "jwXR2zWM85BK"
      },
      "outputs": [],
      "source": [
        "from numpy import loadtxt\n",
        "from keras.models import Sequential\n",
        "from keras.layers import Dense\n",
        "from keras.models import model_from_json\n",
        "\n",
        "dataset = loadtxt('diabetes_dataset.csv', delimiter=',')\n",
        "x = dataset[:,0:8]\n",
        "y = dataset[:,8]\n",
        "print(x)\n",
        "\n",
        "\n",
        "model = Sequential()\n",
        "\n",
        "model.add(Dense(12, input_dim=8, activation='relu'))\n",
        "model.add(Dense(8, activation='relu'))\n",
        "model.add(Dense(1, activation='sigmoid'))\n",
        "\n",
        "model.compile(loss='binary_crossentropy', optimizer='adam', metrics=['accuracy'])\n",
        "\n",
        "#Model Training\n",
        "model.fit(x, y, epochs=40, batch_size=10)\n",
        "\n",
        "#Evaluation\n",
        "_, accuracy = model.evaluate(x, y)\n",
        "print('Accuracy: %.2f' % (accuracy*100))\n",
        "\n",
        "#Model Save\n",
        "model_json = model.to_json()\n",
        "with open(\"diabetes_model.json\", \"w\") as json_file:\n",
        "    json_file.write(model_json)\n",
        "model.save_weights(\"diabetes_model.h5\")\n",
        "print(\"Saved model to disk\")\n"
      ]
    }
  ]
}